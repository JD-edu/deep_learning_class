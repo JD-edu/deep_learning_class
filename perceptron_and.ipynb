{
  "nbformat": 4,
  "nbformat_minor": 0,
  "metadata": {
    "colab": {
      "name": "perceptron_and.ipynb",
      "provenance": [],
      "collapsed_sections": []
    },
    "kernelspec": {
      "name": "python3",
      "display_name": "Python 3"
    },
    "language_info": {
      "name": "python"
    }
  },
  "cells": [
    {
      "cell_type": "code",
      "execution_count": null,
      "metadata": {
        "id": "4gGz_oUfhnoE"
      },
      "outputs": [],
      "source": [
        "import numpy as np"
      ]
    },
    {
      "cell_type": "markdown",
      "source": [
        "numpy 임포트 하기 "
      ],
      "metadata": {
        "id": "fzMNt061h6Qe"
      }
    },
    {
      "cell_type": "code",
      "source": [
        "class Perceptron:\n",
        "    def __init__(self, N, alpha):\n",
        "        self.W = np.random.randn(N+1)/np.sqrt(N) # W1 W2 \n",
        "        #print(self.W)\n",
        "        self.alpha = alpha  # learning rate \n",
        "\n",
        "    def step(self, x):  # activation function\n",
        "        if x > 0:\n",
        "            return 1\n",
        "        else:\n",
        "            return 0\n",
        "\n",
        "    def fit(self, X, y, epochs = 10):\n",
        "        X = np.c_[X, np.ones(X.shape[0])]  # 1 bias add to X input array\n",
        "        for epoch in range(epochs):  # 10번 loop \n",
        "            for (x, target) in zip(X, y): # 4번 loop\n",
        "                #print(x, target)\n",
        "                p = self.step(np.dot(x, self.W)) # self.W :계수 x: AND 논리 입력값 x1 x2\n",
        "                #print(p)\n",
        "                if p != target: # 입력값 * 계수 = 미리 정해진  결과값과 같으냐? \n",
        "                    # 같지 않으면 역전파법에 의해서 계수를 업데이트 하기 \n",
        "                    error = p - target  # wi(t +1) = wi(t) +α(dj −yj)xj,i\n",
        "                    self.W += -self.alpha*error*x\n",
        "\n",
        "    def predict(self, X): # X = [0 1] e.g.\n",
        "        X = np.atleast_2d(X)\n",
        "        X = np.c_[X, np.ones(1)]\n",
        "        p = self.step(np.dot(X, self.W)) # 여기의 self.W는 이미 트레이닝 이 끝난 상테 즉 추론파일 \n",
        "        print(p)\n",
        "        print('------------------')"
      ],
      "metadata": {
        "id": "IC_gF_cYh81_"
      },
      "execution_count": null,
      "outputs": []
    },
    {
      "cell_type": "markdown",
      "source": [
        "퍼셉트론 클래서 "
      ],
      "metadata": {
        "id": "iW6Xb-pZiE6F"
      }
    },
    {
      "cell_type": "code",
      "source": [
        "per = Perceptron(2, 0.9)"
      ],
      "metadata": {
        "id": "A6GkdYcViv4V"
      },
      "execution_count": null,
      "outputs": []
    },
    {
      "cell_type": "markdown",
      "source": [
        "클래스 캑체 만들기 "
      ],
      "metadata": {
        "id": "bQ8-wfBUizGl"
      }
    },
    {
      "cell_type": "code",
      "source": [
        "x = np.array([0,0])\n",
        "per.predict(x)"
      ],
      "metadata": {
        "id": "OzfzzhK-jDSE"
      },
      "execution_count": null,
      "outputs": []
    },
    {
      "cell_type": "code",
      "source": [
        "x = np.array([1,0])\n",
        "per.predict(x)"
      ],
      "metadata": {
        "id": "gGR85Ee2jGNB"
      },
      "execution_count": null,
      "outputs": []
    },
    {
      "cell_type": "code",
      "source": [
        "x = np.array([0,1])\n",
        "per.predict(x)"
      ],
      "metadata": {
        "id": "Um2z5w5ijIqN"
      },
      "execution_count": null,
      "outputs": []
    },
    {
      "cell_type": "code",
      "source": [
        "x = np.array([1,1])\n",
        "per.predict(x)\n",
        "   "
      ],
      "metadata": {
        "id": "-RwICq6LjMlr"
      },
      "execution_count": null,
      "outputs": []
    }
  ]
}